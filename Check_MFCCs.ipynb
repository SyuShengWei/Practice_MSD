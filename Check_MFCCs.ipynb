{
 "cells": [
  {
   "cell_type": "code",
   "execution_count": 64,
   "metadata": {},
   "outputs": [],
   "source": [
    "import os\n",
    "os_MSD = 'D:\\\\MillionSongSubset\\\\data'\n",
    "os_MFCC = \"D:\\\\MSD_MFCCs\""
   ]
  },
  {
   "cell_type": "code",
   "execution_count": 2,
   "metadata": {},
   "outputs": [],
   "source": [
    "class Song() :\n",
    "    def __init__(self,title,MFCC):\n",
    "        self.title = title\n",
    "        self.MFCC = MFCC\n"
   ]
  },
  {
   "cell_type": "code",
   "execution_count": 59,
   "metadata": {},
   "outputs": [],
   "source": [
    "import codecs\n",
    "with codecs.open('D:\\\\MillionSongSubset\\\\AdditionalFiles\\\\subset_unique_tracks.txt','r',encoding = 'utf8') as infile:\n",
    "    MetaData = infile.readlines()"
   ]
  },
  {
   "cell_type": "code",
   "execution_count": 86,
   "metadata": {},
   "outputs": [],
   "source": [
    "import json\n",
    "with codecs.open('VectorizeTagTraing_50d_Dic.json','r',encoding = 'utf8') as infile:\n",
    "    VT_50 = json.load(infile)"
   ]
  },
  {
   "cell_type": "code",
   "execution_count": 89,
   "metadata": {},
   "outputs": [],
   "source": [
    "VT_50_key = VT_50.keys()"
   ]
  },
  {
   "cell_type": "code",
   "execution_count": 96,
   "metadata": {},
   "outputs": [],
   "source": [
    "File_Dic = {}\n",
    "for line in MetaData:\n",
    "    data = line.replace('\\n','').split(\"<SEP>\")\n",
    "    #if data[2]+\"_\"+data[3] in VT_50_key:\n",
    "    File_Dic.update({data[0]:data[2]+\"_\"+data[3]})"
   ]
  },
  {
   "cell_type": "code",
   "execution_count": 97,
   "metadata": {},
   "outputs": [
    {
     "data": {
      "text/plain": [
       "10000"
      ]
     },
     "execution_count": 97,
     "metadata": {},
     "output_type": "execute_result"
    }
   ],
   "source": [
    "len(File_Dic)"
   ]
  },
  {
   "cell_type": "code",
   "execution_count": null,
   "metadata": {},
   "outputs": [
    {
     "name": "stderr",
     "output_type": "stream",
     "text": [
      "c:\\users\\shengwei\\appdata\\local\\programs\\python\\python36\\lib\\site-packages\\h5py\\_hl\\dataset.py:313: H5pyDeprecationWarning: dataset.value has been deprecated. Use dataset[()] instead.\n",
      "  \"Use dataset[()] instead.\", H5pyDeprecationWarning)\n"
     ]
    }
   ],
   "source": [
    "import h5py\n",
    "import numpy as np\n",
    "shape_list = []\n",
    "All_Song_List = []\n",
    "list_dirs = os.walk(os_MSD) \n",
    "ctr = 0\n",
    "for root, dirs, files in list_dirs: \n",
    "    for f in files:\n",
    "        ctr+=1\n",
    "        #print(os.path.join(root, f))\n",
    "        file = h5py.File(os.path.join(root, f))\n",
    "        MFCC = np.swapaxes(file['analysis']['segments_timbre'].value,0,1)\n",
    "        if (MFCC.shape[1]) < 850 :\n",
    "            continue\n",
    "        else:\n",
    "            MFCCs_cut = []\n",
    "            for line in MFCC:\n",
    "                MFCCs_cut.append(line.tolist()[:850])\n",
    "        if File_Dic[f.replace('.h5','')] in VT_50_key:\n",
    "            with codecs.open(os.path.join(os_MFCC,File_Dic[f.replace('.h5','')]),'w',encoding = 'utf8') as infile:\n",
    "                json.dump(MFCCs_cut,infile)"
   ]
  },
  {
   "cell_type": "code",
   "execution_count": 84,
   "metadata": {},
   "outputs": [
    {
     "data": {
      "text/plain": [
       "857.7406"
      ]
     },
     "execution_count": 84,
     "metadata": {},
     "output_type": "execute_result"
    }
   ],
   "source": [
    "np.array(shape_list).mean()"
   ]
  },
  {
   "cell_type": "code",
   "execution_count": 95,
   "metadata": {},
   "outputs": [
    {
     "data": {
      "text/plain": [
       "10000"
      ]
     },
     "execution_count": 95,
     "metadata": {},
     "output_type": "execute_result"
    }
   ],
   "source": [
    "ctr"
   ]
  },
  {
   "cell_type": "code",
   "execution_count": 76,
   "metadata": {},
   "outputs": [],
   "source": [
    "MFCC = file['analysis']['segments_timbre'].value"
   ]
  },
  {
   "cell_type": "code",
   "execution_count": 79,
   "metadata": {},
   "outputs": [
    {
     "data": {
      "text/plain": [
       "(577, 12)"
      ]
     },
     "execution_count": 79,
     "metadata": {},
     "output_type": "execute_result"
    }
   ],
   "source": [
    "MFCC.shape"
   ]
  },
  {
   "cell_type": "code",
   "execution_count": 78,
   "metadata": {},
   "outputs": [
    {
     "data": {
      "text/plain": [
       "-253.242"
      ]
     },
     "execution_count": 78,
     "metadata": {},
     "output_type": "execute_result"
    }
   ],
   "source": [
    "MFCC.min()"
   ]
  },
  {
   "cell_type": "code",
   "execution_count": null,
   "metadata": {},
   "outputs": [],
   "source": []
  }
 ],
 "metadata": {
  "kernelspec": {
   "display_name": "Python 3",
   "language": "python",
   "name": "python3"
  },
  "language_info": {
   "codemirror_mode": {
    "name": "ipython",
    "version": 3
   },
   "file_extension": ".py",
   "mimetype": "text/x-python",
   "name": "python",
   "nbconvert_exporter": "python",
   "pygments_lexer": "ipython3",
   "version": "3.6.8"
  }
 },
 "nbformat": 4,
 "nbformat_minor": 2
}
